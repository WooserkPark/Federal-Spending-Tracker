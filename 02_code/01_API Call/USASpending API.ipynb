{
 "cells": [
  {
   "cell_type": "code",
   "execution_count": null,
   "id": "07f50eca-745a-440e-9b59-b75d3a9efdd7",
   "metadata": {},
   "outputs": [],
   "source": [
    "import os\n",
    "\n",
    "# Set the working directory\n",
    "folder_path = \"{}\"\n",
    "os.chdir(folder_path)\n",
    "\n",
    "import requests\n",
    "import time\n",
    "\n",
    "# Define the API endpoint\n",
    "api_url = \"https://api.usaspending.gov/api/v2/bulk_download/awards/\"\n",
    "\n",
    "# Define the years to collect data for\n",
    "years = range(2021, 2024)  # 2021 to 2024\n",
    "\n",
    "for year in years:\n",
    "    # Define request parameters\n",
    "    payload = {\n",
    "        \"filters\": {\n",
    "            \"prime_award_types\": [\"A\", \"B\", \"C\", \"D\"],  # Contracts, Grants, Loans, Direct Payments\n",
    "            \"date_type\": \"action_date\",\n",
    "            \"date_range\": {\n",
    "                \"start_date\": f\"{year}-01-01\",\n",
    "                \"end_date\": f\"{year}-12-31\"\n",
    "            }\n",
    "        },\n",
    "        \"file_format\": \"csv\"\n",
    "    }\n",
    "\n",
    "    # Send the API request\n",
    "    response = requests.post(api_url, json=payload)\n",
    "\n",
    "    # Debugging: Print API response\n",
    "    print(f\"Year: {year}\")\n",
    "    print(\"Response Status Code:\", response.status_code)\n",
    "    \n",
    "    try:\n",
    "        response_json = response.json()\n",
    "        \n",
    "        # Print full response for debugging\n",
    "        print(\"Response JSON:\", response_json)  \n",
    "\n",
    "        # Extract and print the download link if available\n",
    "        file_url = response_json.get(\"file_url\", None)\n",
    "        \n",
    "        if file_url:\n",
    "            print(f\"Download Link for {year}: {file_url}\\n\")\n",
    "        else:\n",
    "            print(f\"No download link available for {year}\\n\")\n",
    "    \n",
    "    except ValueError:\n",
    "        print(\"Response Text:\", response.text)  # In case of non-JSON response\n",
    "    \n",
    "    # Avoid overwhelming the server with requests\n",
    "    time.sleep(2)  # Pause between requests to be respectful of API limits"
   ]
  }
 ],
 "metadata": {
  "kernelspec": {
   "display_name": "Python 3 (ipykernel)",
   "language": "python",
   "name": "python3"
  },
  "language_info": {
   "codemirror_mode": {
    "name": "ipython",
    "version": 3
   },
   "file_extension": ".py",
   "mimetype": "text/x-python",
   "name": "python",
   "nbconvert_exporter": "python",
   "pygments_lexer": "ipython3",
   "version": "3.12.3"
  }
 },
 "nbformat": 4,
 "nbformat_minor": 5
}
